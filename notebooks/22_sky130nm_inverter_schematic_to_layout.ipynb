{
 "cells": [
  {
   "cell_type": "markdown",
   "id": "0",
   "metadata": {},
   "source": [
    "# SkyWater Inverter Design using GPlugins\n",
    "\n",
    "The goal of this notebook is to demonstrate the integration of the `sky130nm` electronic PDK within a gdsfactory-based schematic driven layout. Broadly, we will explore:\n",
    "\n",
    "* A little introduction at setting up the existing open-source electronic EDA development flow with `xschem` using the latest `sky130nm` library\n",
    "* Exporting that schematic into a SPICE model, which is used to schematic-driven-layout using gdsfactory.\n",
    "* Example inverter design and layout between the toolsets."
   ]
  },
  {
   "cell_type": "markdown",
   "id": "1",
   "metadata": {},
   "source": [
    "## Using the `gdsfactory-sky130nm` Repository"
   ]
  },
  {
   "cell_type": "markdown",
   "id": "2",
   "metadata": {},
   "source": [
    "The goal of this notebook is to show that analogue simulation and layout can be performed together within a `gdsfactory` environment."
   ]
  },
  {
   "cell_type": "markdown",
   "id": "3",
   "metadata": {},
   "source": [
    "```\n",
    "pip install gplugins[hdl21,sky130]\n",
    "```"
   ]
  },
  {
   "cell_type": "code",
   "execution_count": null,
   "id": "4",
   "metadata": {},
   "outputs": [],
   "source": [
    "import hdl21 as h\n",
    "import gdsfactory as gf\n",
    "import gplugins.hdl21 as gph\n",
    "import sky130\n",
    "import sky130_hdl21\n",
    "\n",
    "from bokeh.io import output_notebook\n",
    "from gdsfactory.config import rich_output\n",
    "from gplugins.schematic_editor import SchematicEditor\n",
    "\n",
    "gf.config.rich_output()\n",
    "\n",
    "%env BOKEH_ALLOW_WS_ORIGIN=*\n",
    "\n",
    "output_notebook()"
   ]
  },
  {
   "cell_type": "code",
   "execution_count": null,
   "id": "5",
   "metadata": {},
   "outputs": [],
   "source": [
    "# sky130.cells"
   ]
  },
  {
   "cell_type": "code",
   "execution_count": null,
   "id": "6",
   "metadata": {},
   "outputs": [],
   "source": [
    "@h.module\n",
    "class SkyInv:\n",
    "    \"\"\" An inverter, demonstrating using PDK modules \"\"\"\n",
    "\n",
    "    # Create some IO\n",
    "    i, o, VDD, VSS = h.Ports(4)\n",
    "\n",
    "    p = sky130_hdl21.Sky130MosParams(w=1,l=1)\n",
    "\n",
    "    # And create some transistors!\n",
    "    ps = sky130_hdl21.primitives.PMOS_1p8V_STD(p)(d=o, g=i, s=VDD, b=VDD)\n",
    "    ns = sky130_hdl21.primitives.NMOS_1p8V_STD(p)(d=VSS, g=i, s=o, b=VSS)"
   ]
  },
  {
   "cell_type": "markdown",
   "id": "7",
   "metadata": {},
   "source": [
    "### Manually editing the `SPICE`-generated `gdsfactory` component YAML\n",
    "\n",
    "It is important to know that with the SPICE-generated YAML, we cannot actually create a layout on its own. This is because the SPICE models do not exactly directly map to layout instances. SPICE models can represent performance corners for the same device, with multiple temperature or yield quality variations. As such, we need to assign the corresponding gds we want to layout for our specific schematic model."
   ]
  },
  {
   "cell_type": "code",
   "execution_count": null,
   "id": "8",
   "metadata": {},
   "outputs": [],
   "source": [
    "example_inverter_manual_yaml = gph.generate_raw_yaml_from_module(\n",
    "    SkyInv\n",
    ")\n",
    "print(example_inverter_manual_yaml)"
   ]
  },
  {
   "cell_type": "code",
   "execution_count": null,
   "id": "9",
   "metadata": {},
   "outputs": [],
   "source": [
    "\n",
    "\n",
    "example_inverter_manual_yaml = \"\"\"\n",
    "connections:\n",
    "  ns,d: ps,d\n",
    "  ns,g: ps,g\n",
    "  ps,d: ns,d\n",
    "  ps,g: ns,g\n",
    "instances:\n",
    "  ns:\n",
    "    component: sky130_fd_pr__nfet_01v8\n",
    "    info: {}\n",
    "    settings:\n",
    "      As: int((nf+2)/2) * w/nf * 0.29\n",
    "      ad: int((nf+1)/2) * w/nf * 0.29\n",
    "      l: UNIT_1\n",
    "      m: UNIT_1\n",
    "      mult: UNIT_1\n",
    "      nf: UNIT_1\n",
    "      nrd: 0.29 / w\n",
    "      nrs: 0.29 / w\n",
    "      pd: 2*int((nf+1)/2) * (w/nf + 0.29)\n",
    "      ports:\n",
    "        b: VSS\n",
    "        d: o\n",
    "        g: i\n",
    "        s: VSS\n",
    "      ps: 2*int((nf+2)/2) * (w/nf + 0.29)\n",
    "      sa: UNIT_0\n",
    "      sb: UNIT_0\n",
    "      sd: UNIT_0\n",
    "      w: UNIT_1\n",
    "  ps:\n",
    "    component: sky130_fd_pr__pfet_01v8\n",
    "    info: {}\n",
    "    settings:\n",
    "      As: int((nf+2)/2) * w/nf * 0.29\n",
    "      ad: int((nf+1)/2) * w/nf * 0.29\n",
    "      l: UNIT_1\n",
    "      m: UNIT_1\n",
    "      mult: UNIT_1\n",
    "      nf: UNIT_1\n",
    "      nrd: 0.29 / w\n",
    "      nrs: 0.29 / w\n",
    "      pd: 2*int((nf+1)/2) * (w/nf + 0.29)\n",
    "      ports:\n",
    "        b: VDD\n",
    "        d: o\n",
    "        g: i\n",
    "        s: VDD\n",
    "      ps: 2*int((nf+2)/2) * (w/nf + 0.29)\n",
    "      sa: UNIT_0\n",
    "      sb: UNIT_0\n",
    "      sd: UNIT_0\n",
    "      w: UNIT_1\n",
    "name: SkyInv\n",
    "ports:\n",
    "  VDD: ps,s\n",
    "  VSS: ns,s\n",
    "  i: ps,g\n",
    "  o: ps,d\n",
    "\"\"\"\n",
    "with open(\"data/sky130nm/example_inverter_manual.schem.yaml\", 'w') as file:\n",
    "        file.write(example_inverter_manual_yaml)"
   ]
  },
  {
   "cell_type": "markdown",
   "id": "10",
   "metadata": {},
   "source": [
    "### Automatically mapping layout instances to the YAML"
   ]
  },
  {
   "cell_type": "code",
   "execution_count": null,
   "id": "11",
   "metadata": {},
   "outputs": [],
   "source": [
    "example_inverter_schematic_editor = gph.hdl21_module_to_schematic_editor(\n",
    "    module=SkyInv,\n",
    "    yaml_schematic_file_name=\"data/sky130nm/example_inverter_auto.schem.yaml\",\n",
    ")\n",
    "example_inverter_schematic_editor.visualize()"
   ]
  },
  {
   "cell_type": "code",
   "execution_count": null,
   "id": "12",
   "metadata": {},
   "outputs": [],
   "source": [
    "example_inverter_layout = \"data/sky130nm/example_inverter_auto.layout.yaml\"\n",
    "example_inverter_schematic_editor.instantiate_layout(example_inverter_layout, default_router=\"get_bundle\", default_cross_section=\"xs_metal1\")\n",
    "c = gf.read.from_yaml(example_inverter_layout)\n",
    "c.plot()"
   ]
  },
  {
   "cell_type": "markdown",
   "id": "13",
   "metadata": {},
   "source": [
    "## (WIP, future integrations) Setting up the required tools: `xschem`, `volare` and the `sky130nm` PDKs\n",
    "\n",
    "I will say early on, you would benefit from working in a UNIX or Debian Linux environment. Most EDA tools either proprietary or open-source only work within these operating systems or a Docker environment of these operating systems.\n",
    "\n",
    "There are multiple ways to get started with the environment, you could, for example:\n",
    "1. Work within a [IIC-OSIC-TOOLS docker environment](https://github.com/iic-jku/IIC-OSIC-TOOLS). There is also a nice [OSIC-multitool project](https://github.com/iic-jku/osic-multitool) specifically for SKY130nm designs.\n",
    "2. Install these tools natively in your operating system. You could follow one of these tutorials, for example:\n",
    "    * https://www.engineerwikis.com/wikis/installation-of-xschem\n",
    "    * https://www.youtube.com/watch?v=jXmmxO8WG8s&t=7s\n",
    "\n",
    "This tutorial assumes the tools have already been installed in a local operating system. We will use some design files generated by these toolsets as guided by this [OSIC-Multitool example](https://github.com/iic-jku/osic-multitool/tree/main/example/ana). Note we recommend cloning the `gplugins` repository."
   ]
  },
  {
   "cell_type": "code",
   "execution_count": null,
   "id": "14",
   "metadata": {},
   "outputs": [],
   "source": [
    "import pathlib\n",
    "from gplugins.spice import parse_netlist as spice"
   ]
  },
  {
   "cell_type": "markdown",
   "id": "15",
   "metadata": {},
   "source": [
    "Our example files are under the directory of `gplugins/notebooks/data`, let's extract our SPICE declaration:"
   ]
  },
  {
   "cell_type": "code",
   "execution_count": null,
   "id": "16",
   "metadata": {},
   "outputs": [],
   "source": [
    "def read_file(file_path):\n",
    "    try:\n",
    "        with open(file_path, 'r') as file:\n",
    "            text = file.read()\n",
    "        return text\n",
    "    except FileNotFoundError:\n",
    "        print(\"File not found. Please provide a valid file path.\")\n",
    "        return None"
   ]
  },
  {
   "cell_type": "markdown",
   "id": "17",
   "metadata": {},
   "source": [
    "Let's list the files we're going to be reading into:"
   ]
  },
  {
   "cell_type": "code",
   "execution_count": null,
   "id": "18",
   "metadata": {},
   "outputs": [],
   "source": [
    "inverter_spice_file = pathlib.Path(\"data\") / \"sky130nm\" / \"inv.sch\""
   ]
  },
  {
   "cell_type": "markdown",
   "id": "19",
   "metadata": {},
   "source": [
    "Let's extract our raw spice netlist. An important aspect to understand is that unfortunately, every SPICE tool developed their own file format. So in this sense, netlist parsing function is implemented according to the type of spice toolset that has generated this netlist.\n",
    "\n",
    "We aim to support:\n",
    "\n",
    "- `xschem`\n",
    "- `lumerical?`"
   ]
  },
  {
   "cell_type": "code",
   "execution_count": null,
   "id": "20",
   "metadata": {},
   "outputs": [],
   "source": [
    "inverter_spice_text = read_file(inverter_spice_file)\n",
    "inverter_spice_text"
   ]
  },
  {
   "cell_type": "code",
   "execution_count": null,
   "id": "21",
   "metadata": {},
   "outputs": [],
   "source": [
    "spice.netlist_text"
   ]
  },
  {
   "cell_type": "code",
   "execution_count": null,
   "id": "22",
   "metadata": {},
   "outputs": [],
   "source": [
    "elements, _, _ = spice.parse_netlist_and_extract_elements(netlist_text=spice.netlist_text, spice_type=\"lumerical\")\n",
    "elements"
   ]
  },
  {
   "cell_type": "markdown",
   "id": "23",
   "metadata": {},
   "source": [
    "So we can use our `netlist` parsing function to convert this to a compatible netlist for gdsfactory plugins into the extracted elements and the extracted connections:"
   ]
  },
  {
   "cell_type": "code",
   "execution_count": null,
   "id": "24",
   "metadata": {},
   "outputs": [],
   "source": [
    "inverter_netlist_elements, inverter_netlist_connections, _ = spice.parse_netlist_and_extract_elements(netlist_text=inverter_spice_text, spice_type=\"xschem\")\n",
    "inverter_netlist_elements, inverter_netlist_connections, _"
   ]
  },
  {
   "cell_type": "markdown",
   "id": "25",
   "metadata": {},
   "source": [
    "### Automated schematic-driven-layout"
   ]
  },
  {
   "cell_type": "markdown",
   "id": "26",
   "metadata": {},
   "source": [
    "We have now extracted our spice elements and our connectivity. Let's explore what we have there:"
   ]
  },
  {
   "cell_type": "raw",
   "id": "27",
   "metadata": {},
   "source": [
    "# Current TODOs\n",
    "\n",
    "1. Update the extraction function to add xschem compatibility.\n",
    "2. Create the mapping between the extracted netlist and the corresponding SKY130nm elements."
   ]
  },
  {
   "cell_type": "code",
   "execution_count": null,
   "id": "28",
   "metadata": {},
   "outputs": [],
   "source": []
  },
  {
   "cell_type": "code",
   "execution_count": null,
   "id": "29",
   "metadata": {},
   "outputs": [],
   "source": []
  }
 ],
 "metadata": {
  "kernelspec": {
   "display_name": "Python 3 (ipykernel)",
   "language": "python",
   "name": "python3"
  },
  "language_info": {
   "codemirror_mode": {
    "name": "ipython",
    "version": 3
   },
   "file_extension": ".py",
   "mimetype": "text/x-python",
   "name": "python",
   "nbconvert_exporter": "python",
   "pygments_lexer": "ipython3",
   "version": "3.10.13"
  }
 },
 "nbformat": 4,
 "nbformat_minor": 5
}
