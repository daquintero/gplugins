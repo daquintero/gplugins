{
 "cells": [
  {
   "cell_type": "markdown",
   "id": "0",
   "metadata": {},
   "source": [
    "# SkyWater Inverter Design using GPlugins\n",
    "\n",
    "The goal of this notebook is to demonstrate the integration of the `sky130nm` electronic PDK within a gdsfactory-based schematic driven layout. Broadly, we will explore:\n",
    "\n",
    "* A little introduction at setting up the existing open-source electronic EDA development flow with `xschem` using the latest `sky130nm` library\n",
    "* Exporting that schematic into a SPICE model, which is used to schematic-driven-layout using gdsfactory.\n",
    "* Example inverter design and layout between the toolsets."
   ]
  },
  {
   "cell_type": "markdown",
   "id": "1",
   "metadata": {},
   "source": [
    "## Using the `gdsfactory-sky130nm` Repository"
   ]
  },
  {
   "cell_type": "markdown",
   "id": "2",
   "metadata": {},
   "source": [
    "The goal of this notebook is to show that analogue simulation and layout can be performed together within a `gdsfactory` environment."
   ]
  },
  {
   "cell_type": "markdown",
   "id": "3",
   "metadata": {},
   "source": [
    "```\n",
    "pip install gplugins[hdl21,sky130]\n",
    "```"
   ]
  },
  {
   "cell_type": "code",
   "execution_count": 1,
   "id": "4",
   "metadata": {},
   "outputs": [
    {
     "ename": "PydanticUserError",
     "evalue": "A non-annotated attribute was detected: `HACK_TODO_REMOVE = (2, 0)`. All model fields require a type annotation; if `HACK_TODO_REMOVE` is not meant to be a field, you may be able to resolve this error by annotating it as a `ClassVar` or updating `model_config['ignored_types']`.\n\nFor further information visit https://errors.pydantic.dev/2.6/u/model-field-missing-annotation",
     "output_type": "error",
     "traceback": [
      "\u001B[0;31m---------------------------------------------------------------------------\u001B[0m",
      "\u001B[0;31mPydanticUserError\u001B[0m                         Traceback (most recent call last)",
      "Cell \u001B[0;32mIn[1], line 3\u001B[0m\n\u001B[1;32m      1\u001B[0m \u001B[38;5;28;01mimport\u001B[39;00m \u001B[38;5;21;01mhdl21\u001B[39;00m \u001B[38;5;28;01mas\u001B[39;00m \u001B[38;5;21;01mh\u001B[39;00m\n\u001B[1;32m      2\u001B[0m \u001B[38;5;28;01mimport\u001B[39;00m \u001B[38;5;21;01mgdsfactory\u001B[39;00m \u001B[38;5;28;01mas\u001B[39;00m \u001B[38;5;21;01mgf\u001B[39;00m\n\u001B[0;32m----> 3\u001B[0m \u001B[38;5;28;01mimport\u001B[39;00m \u001B[38;5;21;01mgplugins\u001B[39;00m\u001B[38;5;21;01m.\u001B[39;00m\u001B[38;5;21;01mhdl21\u001B[39;00m \u001B[38;5;28;01mas\u001B[39;00m \u001B[38;5;21;01mgph\u001B[39;00m\n\u001B[1;32m      4\u001B[0m \u001B[38;5;28;01mimport\u001B[39;00m \u001B[38;5;21;01msky130\u001B[39;00m\n\u001B[1;32m      5\u001B[0m \u001B[38;5;28;01mimport\u001B[39;00m \u001B[38;5;21;01msky130_hdl21\u001B[39;00m\n",
      "File \u001B[0;32m~/phd/collaborate/gplugins/gplugins/hdl21/__init__.py:6\u001B[0m\n\u001B[1;32m      1\u001B[0m \u001B[38;5;28;01mfrom\u001B[39;00m \u001B[38;5;21;01m.\u001B[39;00m\u001B[38;5;21;01mnetlist\u001B[39;00m \u001B[38;5;28;01mimport\u001B[39;00m (\n\u001B[1;32m      2\u001B[0m     ParsedProtoVLSIR,\n\u001B[1;32m      3\u001B[0m     generate_raw_netlist_dict_from_module,\n\u001B[1;32m      4\u001B[0m     generate_raw_yaml_from_module,\n\u001B[1;32m      5\u001B[0m )\n\u001B[0;32m----> 6\u001B[0m \u001B[38;5;28;01mfrom\u001B[39;00m \u001B[38;5;21;01m.\u001B[39;00m\u001B[38;5;21;01msky130\u001B[39;00m \u001B[38;5;28;01mimport\u001B[39;00m (\n\u001B[1;32m      7\u001B[0m     filter_port,\n\u001B[1;32m      8\u001B[0m     find_most_relevant_gds,\n\u001B[1;32m      9\u001B[0m     hdl21_module_to_schematic_editor,\n\u001B[1;32m     10\u001B[0m )\n\u001B[1;32m     12\u001B[0m __all__ \u001B[38;5;241m=\u001B[39m [\n\u001B[1;32m     13\u001B[0m     \u001B[38;5;124m\"\u001B[39m\u001B[38;5;124mfilter_port\u001B[39m\u001B[38;5;124m\"\u001B[39m,\n\u001B[1;32m     14\u001B[0m     \u001B[38;5;124m\"\u001B[39m\u001B[38;5;124mfind_most_relevant_gds\u001B[39m\u001B[38;5;124m\"\u001B[39m,\n\u001B[0;32m   (...)\u001B[0m\n\u001B[1;32m     18\u001B[0m     \u001B[38;5;124m\"\u001B[39m\u001B[38;5;124mParsedProtoVLSIR\u001B[39m\u001B[38;5;124m\"\u001B[39m,\n\u001B[1;32m     19\u001B[0m ]\n",
      "File \u001B[0;32m~/phd/collaborate/gplugins/gplugins/hdl21/sky130.py:5\u001B[0m\n\u001B[1;32m      2\u001B[0m \u001B[38;5;28;01mfrom\u001B[39;00m \u001B[38;5;21;01mdifflib\u001B[39;00m \u001B[38;5;28;01mimport\u001B[39;00m get_close_matches\n\u001B[1;32m      4\u001B[0m \u001B[38;5;28;01mimport\u001B[39;00m \u001B[38;5;21;01mhdl21\u001B[39;00m \u001B[38;5;28;01mas\u001B[39;00m \u001B[38;5;21;01mh\u001B[39;00m\n\u001B[0;32m----> 5\u001B[0m \u001B[38;5;28;01mimport\u001B[39;00m \u001B[38;5;21;01msky130\u001B[39;00m\n\u001B[1;32m      7\u001B[0m \u001B[38;5;28;01mfrom\u001B[39;00m \u001B[38;5;21;01m.\u001B[39;00m\u001B[38;5;21;01m.\u001B[39;00m\u001B[38;5;21;01mschematic_editor\u001B[39;00m \u001B[38;5;28;01mimport\u001B[39;00m SchematicEditor\n\u001B[1;32m      8\u001B[0m \u001B[38;5;28;01mfrom\u001B[39;00m \u001B[38;5;21;01m.\u001B[39;00m\u001B[38;5;21;01mnetlist\u001B[39;00m \u001B[38;5;28;01mimport\u001B[39;00m (\n\u001B[1;32m      9\u001B[0m     _generate_raw_netlist_dict_from_proto_dict,\n\u001B[1;32m     10\u001B[0m     _parse_module_to_proto_dict,\n\u001B[1;32m     11\u001B[0m )\n",
      "File \u001B[0;32m~/phd/collaborate/skywater130/sky130/__init__.py:8\u001B[0m\n\u001B[1;32m      5\u001B[0m \u001B[38;5;28;01mfrom\u001B[39;00m \u001B[38;5;21;01mgdsfactory\u001B[39;00m\u001B[38;5;21;01m.\u001B[39;00m\u001B[38;5;21;01mget_factories\u001B[39;00m \u001B[38;5;28;01mimport\u001B[39;00m get_cells\n\u001B[1;32m      6\u001B[0m \u001B[38;5;28;01mfrom\u001B[39;00m \u001B[38;5;21;01mgdsfactory\u001B[39;00m\u001B[38;5;21;01m.\u001B[39;00m\u001B[38;5;21;01mpdk\u001B[39;00m \u001B[38;5;28;01mimport\u001B[39;00m Pdk\n\u001B[0;32m----> 8\u001B[0m \u001B[38;5;28;01mfrom\u001B[39;00m \u001B[38;5;21;01msky130\u001B[39;00m \u001B[38;5;28;01mimport\u001B[39;00m components, pcells\n\u001B[1;32m      9\u001B[0m \u001B[38;5;28;01mfrom\u001B[39;00m \u001B[38;5;21;01msky130\u001B[39;00m\u001B[38;5;21;01m.\u001B[39;00m\u001B[38;5;21;01mlayers\u001B[39;00m \u001B[38;5;28;01mimport\u001B[39;00m LAYER, LAYER_STACK, LAYER_VIEWS\n\u001B[1;32m     10\u001B[0m \u001B[38;5;28;01mfrom\u001B[39;00m \u001B[38;5;21;01msky130\u001B[39;00m\u001B[38;5;21;01m.\u001B[39;00m\u001B[38;5;21;01mtech\u001B[39;00m \u001B[38;5;28;01mimport\u001B[39;00m cross_sections\n",
      "File \u001B[0;32m~/phd/collaborate/skywater130/sky130/components.py:7\u001B[0m\n\u001B[1;32m      4\u001B[0m \u001B[38;5;28;01mfrom\u001B[39;00m \u001B[38;5;21;01mgdsfactory\u001B[39;00m\u001B[38;5;21;01m.\u001B[39;00m\u001B[38;5;21;01mcell\u001B[39;00m \u001B[38;5;28;01mimport\u001B[39;00m cell\n\u001B[1;32m      6\u001B[0m \u001B[38;5;28;01mfrom\u001B[39;00m \u001B[38;5;21;01msky130\u001B[39;00m\u001B[38;5;21;01m.\u001B[39;00m\u001B[38;5;21;01mconfig\u001B[39;00m \u001B[38;5;28;01mimport\u001B[39;00m PATH\n\u001B[0;32m----> 7\u001B[0m \u001B[38;5;28;01mfrom\u001B[39;00m \u001B[38;5;21;01msky130\u001B[39;00m\u001B[38;5;21;01m.\u001B[39;00m\u001B[38;5;21;01mlayers\u001B[39;00m \u001B[38;5;28;01mimport\u001B[39;00m LAYER\n\u001B[1;32m      9\u001B[0m \u001B[38;5;66;03m# add_ports_m1 = gf.partial(\u001B[39;00m\n\u001B[1;32m     10\u001B[0m \u001B[38;5;66;03m#     gf.add_ports.add_ports_from_markers_inside,\u001B[39;00m\n\u001B[1;32m     11\u001B[0m \u001B[38;5;66;03m#     pin_layer=LAYER.met1pin,\u001B[39;00m\n\u001B[0;32m   (...)\u001B[0m\n\u001B[1;32m     19\u001B[0m \u001B[38;5;66;03m#     port_type=\"electrical\",\u001B[39;00m\n\u001B[1;32m     20\u001B[0m \u001B[38;5;66;03m# )\u001B[39;00m\n\u001B[1;32m     22\u001B[0m add_ports_m1 \u001B[38;5;241m=\u001B[39m gf\u001B[38;5;241m.\u001B[39mpartial(\n\u001B[1;32m     23\u001B[0m     gf\u001B[38;5;241m.\u001B[39madd_ports\u001B[38;5;241m.\u001B[39madd_ports_from_labels,\n\u001B[1;32m     24\u001B[0m     port_layer\u001B[38;5;241m=\u001B[39mLAYER\u001B[38;5;241m.\u001B[39mmet1drawing,\n\u001B[0;32m   (...)\u001B[0m\n\u001B[1;32m     29\u001B[0m     guess_port_orientation\u001B[38;5;241m=\u001B[39m\u001B[38;5;28;01mFalse\u001B[39;00m,\n\u001B[1;32m     30\u001B[0m )\n",
      "File \u001B[0;32m~/phd/collaborate/skywater130/sky130/layers.py:8\u001B[0m\n\u001B[1;32m      3\u001B[0m \u001B[38;5;28;01mfrom\u001B[39;00m \u001B[38;5;21;01mpydantic\u001B[39;00m \u001B[38;5;28;01mimport\u001B[39;00m BaseModel\n\u001B[1;32m      5\u001B[0m \u001B[38;5;28;01mfrom\u001B[39;00m \u001B[38;5;21;01msky130\u001B[39;00m\u001B[38;5;21;01m.\u001B[39;00m\u001B[38;5;21;01mconfig\u001B[39;00m \u001B[38;5;28;01mimport\u001B[39;00m PATH\n\u001B[0;32m----> 8\u001B[0m \u001B[38;5;28;01mclass\u001B[39;00m \u001B[38;5;21;01mLayerMap\u001B[39;00m(BaseModel):\n\u001B[1;32m      9\u001B[0m     areaidanalog: Layer \u001B[38;5;241m=\u001B[39m (\u001B[38;5;241m81\u001B[39m, \u001B[38;5;241m79\u001B[39m)\n\u001B[1;32m     10\u001B[0m     areaidcore: Layer \u001B[38;5;241m=\u001B[39m (\u001B[38;5;241m81\u001B[39m, \u001B[38;5;241m2\u001B[39m)\n",
      "File \u001B[0;32m~/.pyenv/versions/3.10.13/envs/gplugins_spice/lib/python3.10/site-packages/pydantic/_internal/_model_construction.py:92\u001B[0m, in \u001B[0;36mModelMetaclass.__new__\u001B[0;34m(mcs, cls_name, bases, namespace, __pydantic_generic_metadata__, __pydantic_reset_parent_namespace__, _create_model_module, **kwargs)\u001B[0m\n\u001B[1;32m     90\u001B[0m config_wrapper \u001B[38;5;241m=\u001B[39m ConfigWrapper\u001B[38;5;241m.\u001B[39mfor_model(bases, namespace, kwargs)\n\u001B[1;32m     91\u001B[0m namespace[\u001B[38;5;124m'\u001B[39m\u001B[38;5;124mmodel_config\u001B[39m\u001B[38;5;124m'\u001B[39m] \u001B[38;5;241m=\u001B[39m config_wrapper\u001B[38;5;241m.\u001B[39mconfig_dict\n\u001B[0;32m---> 92\u001B[0m private_attributes \u001B[38;5;241m=\u001B[39m \u001B[43minspect_namespace\u001B[49m\u001B[43m(\u001B[49m\n\u001B[1;32m     93\u001B[0m \u001B[43m    \u001B[49m\u001B[43mnamespace\u001B[49m\u001B[43m,\u001B[49m\u001B[43m \u001B[49m\u001B[43mconfig_wrapper\u001B[49m\u001B[38;5;241;43m.\u001B[39;49m\u001B[43mignored_types\u001B[49m\u001B[43m,\u001B[49m\u001B[43m \u001B[49m\u001B[43mclass_vars\u001B[49m\u001B[43m,\u001B[49m\u001B[43m \u001B[49m\u001B[43mbase_field_names\u001B[49m\n\u001B[1;32m     94\u001B[0m \u001B[43m\u001B[49m\u001B[43m)\u001B[49m\n\u001B[1;32m     95\u001B[0m \u001B[38;5;28;01mif\u001B[39;00m private_attributes:\n\u001B[1;32m     96\u001B[0m     original_model_post_init \u001B[38;5;241m=\u001B[39m get_model_post_init(namespace, bases)\n",
      "File \u001B[0;32m~/.pyenv/versions/3.10.13/envs/gplugins_spice/lib/python3.10/site-packages/pydantic/_internal/_model_construction.py:384\u001B[0m, in \u001B[0;36minspect_namespace\u001B[0;34m(namespace, ignored_types, base_class_vars, base_class_fields)\u001B[0m\n\u001B[1;32m    380\u001B[0m             \u001B[38;5;28;01mraise\u001B[39;00m PydanticUserError(\n\u001B[1;32m    381\u001B[0m                 \u001B[38;5;124mf\u001B[39m\u001B[38;5;124m'\u001B[39m\u001B[38;5;124mField \u001B[39m\u001B[38;5;132;01m{\u001B[39;00mvar_name\u001B[38;5;132;01m!r}\u001B[39;00m\u001B[38;5;124m requires a type annotation\u001B[39m\u001B[38;5;124m'\u001B[39m, code\u001B[38;5;241m=\u001B[39m\u001B[38;5;124m'\u001B[39m\u001B[38;5;124mmodel-field-missing-annotation\u001B[39m\u001B[38;5;124m'\u001B[39m\n\u001B[1;32m    382\u001B[0m             )\n\u001B[1;32m    383\u001B[0m         \u001B[38;5;28;01melse\u001B[39;00m:\n\u001B[0;32m--> 384\u001B[0m             \u001B[38;5;28;01mraise\u001B[39;00m PydanticUserError(\n\u001B[1;32m    385\u001B[0m                 \u001B[38;5;124mf\u001B[39m\u001B[38;5;124m'\u001B[39m\u001B[38;5;124mA non-annotated attribute was detected: `\u001B[39m\u001B[38;5;132;01m{\u001B[39;00mvar_name\u001B[38;5;132;01m}\u001B[39;00m\u001B[38;5;124m = \u001B[39m\u001B[38;5;132;01m{\u001B[39;00mvalue\u001B[38;5;132;01m!r}\u001B[39;00m\u001B[38;5;124m`. All model fields require a \u001B[39m\u001B[38;5;124m'\u001B[39m\n\u001B[1;32m    386\u001B[0m                 \u001B[38;5;124mf\u001B[39m\u001B[38;5;124m'\u001B[39m\u001B[38;5;124mtype annotation; if `\u001B[39m\u001B[38;5;132;01m{\u001B[39;00mvar_name\u001B[38;5;132;01m}\u001B[39;00m\u001B[38;5;124m` is not meant to be a field, you may be able to resolve this \u001B[39m\u001B[38;5;124m'\u001B[39m\n\u001B[1;32m    387\u001B[0m                 \u001B[38;5;124mf\u001B[39m\u001B[38;5;124m\"\u001B[39m\u001B[38;5;124merror by annotating it as a `ClassVar` or updating `model_config[\u001B[39m\u001B[38;5;124m'\u001B[39m\u001B[38;5;124mignored_types\u001B[39m\u001B[38;5;124m'\u001B[39m\u001B[38;5;124m]`.\u001B[39m\u001B[38;5;124m\"\u001B[39m,\n\u001B[1;32m    388\u001B[0m                 code\u001B[38;5;241m=\u001B[39m\u001B[38;5;124m'\u001B[39m\u001B[38;5;124mmodel-field-missing-annotation\u001B[39m\u001B[38;5;124m'\u001B[39m,\n\u001B[1;32m    389\u001B[0m             )\n\u001B[1;32m    391\u001B[0m \u001B[38;5;28;01mfor\u001B[39;00m ann_name, ann_type \u001B[38;5;129;01min\u001B[39;00m raw_annotations\u001B[38;5;241m.\u001B[39mitems():\n\u001B[1;32m    392\u001B[0m     \u001B[38;5;28;01mif\u001B[39;00m (\n\u001B[1;32m    393\u001B[0m         is_valid_privateattr_name(ann_name)\n\u001B[1;32m    394\u001B[0m         \u001B[38;5;129;01mand\u001B[39;00m ann_name \u001B[38;5;129;01mnot\u001B[39;00m \u001B[38;5;129;01min\u001B[39;00m private_attributes\n\u001B[0;32m   (...)\u001B[0m\n\u001B[1;32m    398\u001B[0m         \u001B[38;5;129;01mand\u001B[39;00m \u001B[38;5;28mgetattr\u001B[39m(ann_type, \u001B[38;5;124m'\u001B[39m\u001B[38;5;124m__module__\u001B[39m\u001B[38;5;124m'\u001B[39m, \u001B[38;5;28;01mNone\u001B[39;00m) \u001B[38;5;241m!=\u001B[39m \u001B[38;5;124m'\u001B[39m\u001B[38;5;124mfunctools\u001B[39m\u001B[38;5;124m'\u001B[39m\n\u001B[1;32m    399\u001B[0m     ):\n",
      "\u001B[0;31mPydanticUserError\u001B[0m: A non-annotated attribute was detected: `HACK_TODO_REMOVE = (2, 0)`. All model fields require a type annotation; if `HACK_TODO_REMOVE` is not meant to be a field, you may be able to resolve this error by annotating it as a `ClassVar` or updating `model_config['ignored_types']`.\n\nFor further information visit https://errors.pydantic.dev/2.6/u/model-field-missing-annotation"
     ]
    }
   ],
   "source": [
    "import hdl21 as h\n",
    "import gdsfactory as gf\n",
    "import gplugins.hdl21 as gph\n",
    "import sky130\n",
    "import sky130_hdl21\n",
    "\n",
    "from bokeh.io import output_notebook\n",
    "from gdsfactory.config import rich_output\n",
    "from gplugins.schematic_editor import SchematicEditor\n",
    "\n",
    "gf.config.rich_output()\n",
    "\n",
    "%env BOKEH_ALLOW_WS_ORIGIN=*\n",
    "\n",
    "output_notebook()"
   ]
  },
  {
   "cell_type": "code",
   "execution_count": null,
   "id": "5",
   "metadata": {},
   "outputs": [],
   "source": [
    "# sky130.cells\n",
    "# sky130.cells[\"sky130_fd_pr__cap_vpp_02p4x04p6_m1m2_noshield\"]()"
   ]
  },
  {
   "cell_type": "code",
   "execution_count": null,
   "id": "6",
   "metadata": {},
   "outputs": [],
   "source": [
    "@h.module\n",
    "class SkyInv:\n",
    "    \"\"\" An inverter, demonstrating using PDK modules \"\"\"\n",
    "\n",
    "    # Create some IO\n",
    "    i, o, VDD, VSS = h.Ports(4)\n",
    "\n",
    "    p = sky130_hdl21.Sky130MosParams(w=1,l=1)\n",
    "\n",
    "    # And create some transistors!\n",
    "    ps = sky130_hdl21.primitives.PMOS_1p8V_STD(p)(d=o, g=i, s=VDD, b=VDD)\n",
    "    ns = sky130_hdl21.primitives.NMOS_1p8V_STD(p)(d=VSS, g=i, s=o, b=VSS)"
   ]
  },
  {
   "cell_type": "markdown",
   "id": "7",
   "metadata": {},
   "source": [
    "### Manually editing the `SPICE`-generated `gdsfactory` component YAML\n",
    "\n",
    "It is important to know that with the SPICE-generated YAML, we cannot actually create a layout on its own. This is because the SPICE models do not exactly directly map to layout instances. SPICE models can represent performance corners for the same device, with multiple temperature or yield quality variations. As such, we need to assign the corresponding gds we want to layout for our specific schematic model."
   ]
  },
  {
   "cell_type": "code",
   "execution_count": null,
   "id": "8",
   "metadata": {},
   "outputs": [],
   "source": [
    "example_inverter_manual_yaml = gph.generate_raw_yaml_from_module(\n",
    "    SkyInv\n",
    ")\n",
    "print(example_inverter_manual_yaml)"
   ]
  },
  {
   "cell_type": "code",
   "execution_count": null,
   "id": "9",
   "metadata": {},
   "outputs": [],
   "source": [
    "\n",
    "\n",
    "example_inverter_manual_yaml = \"\"\"\n",
    "connections:\n",
    "  ns,d: ps,d\n",
    "  ns,g: ps,g\n",
    "  ps,d: ns,d\n",
    "  ps,g: ns,g\n",
    "instances:\n",
    "  ns:\n",
    "    component: sky130_fd_pr__nfet_01v8\n",
    "    info: {}\n",
    "    settings:\n",
    "      As: int((nf+2)/2) * w/nf * 0.29\n",
    "      ad: int((nf+1)/2) * w/nf * 0.29\n",
    "      l: UNIT_1\n",
    "      m: UNIT_1\n",
    "      mult: UNIT_1\n",
    "      nf: UNIT_1\n",
    "      nrd: 0.29 / w\n",
    "      nrs: 0.29 / w\n",
    "      pd: 2*int((nf+1)/2) * (w/nf + 0.29)\n",
    "      ports:\n",
    "        b: VSS\n",
    "        d: o\n",
    "        g: i\n",
    "        s: VSS\n",
    "      ps: 2*int((nf+2)/2) * (w/nf + 0.29)\n",
    "      sa: UNIT_0\n",
    "      sb: UNIT_0\n",
    "      sd: UNIT_0\n",
    "      w: UNIT_1\n",
    "  ps:\n",
    "    component: sky130_fd_pr__pfet_01v8\n",
    "    info: {}\n",
    "    settings:\n",
    "      As: int((nf+2)/2) * w/nf * 0.29\n",
    "      ad: int((nf+1)/2) * w/nf * 0.29\n",
    "      l: UNIT_1\n",
    "      m: UNIT_1\n",
    "      mult: UNIT_1\n",
    "      nf: UNIT_1\n",
    "      nrd: 0.29 / w\n",
    "      nrs: 0.29 / w\n",
    "      pd: 2*int((nf+1)/2) * (w/nf + 0.29)\n",
    "      ports:\n",
    "        b: VDD\n",
    "        d: o\n",
    "        g: i\n",
    "        s: VDD\n",
    "      ps: 2*int((nf+2)/2) * (w/nf + 0.29)\n",
    "      sa: UNIT_0\n",
    "      sb: UNIT_0\n",
    "      sd: UNIT_0\n",
    "      w: UNIT_1\n",
    "name: SkyInv\n",
    "ports:\n",
    "  VDD: ps,s\n",
    "  VSS: ns,s\n",
    "  i: ps,g\n",
    "  o: ps,d\n",
    "\"\"\"\n",
    "with open(\"data/sky130nm/example_inverter_manual.schem.yaml\", 'w') as file:\n",
    "        file.write(example_inverter_manual_yaml)"
   ]
  },
  {
   "cell_type": "markdown",
   "id": "10",
   "metadata": {},
   "source": [
    "### Automatically mapping layout instances to the YAML - Inverter"
   ]
  },
  {
   "cell_type": "code",
   "execution_count": null,
   "id": "11",
   "metadata": {},
   "outputs": [],
   "source": [
    "example_inverter_schematic_editor = gph.hdl21_module_to_schematic_editor(\n",
    "    module=SkyInv,\n",
    "    yaml_schematic_file_name=\"data/sky130nm/example_inverter_auto.schem.yaml\",\n",
    ")\n",
    "example_inverter_schematic_editor.visualize()"
   ]
  },
  {
   "cell_type": "code",
   "execution_count": null,
   "id": "12",
   "metadata": {},
   "outputs": [],
   "source": [
    "example_inverter_layout = \"data/sky130nm/example_inverter_auto.layout.yaml\"\n",
    "example_inverter_schematic_editor.instantiate_layout(example_inverter_layout, default_router=\"get_bundle\", default_cross_section=\"xs_metal1\")\n",
    "c = gf.read.from_yaml(example_inverter_layout)\n",
    "c.plot()"
   ]
  },
  {
   "cell_type": "markdown",
   "id": "1f8112a5-a12e-4771-abd3-7bdda2a4e511",
   "metadata": {},
   "source": [
    "### More Advanced Example - R2R DAC\n",
    "\n",
    "\n",
    "An example of using `hdl21.ExternalModule`s representing an implementation technology/ PDK\n",
    "in a parametric resistive DAC generator mapping to a gdsfactory implementation."
   ]
  },
  {
   "cell_type": "code",
   "execution_count": null,
   "id": "54253a7f-0376-49d6-b1bc-9fb28143a84b",
   "metadata": {},
   "outputs": [],
   "source": [
    "import sys\n",
    "from typing import Optional\n",
    "\n",
    "import hdl21 as h\n",
    "\n",
    "PdkResistor = sky130_hdl21.ress[\"GEN_PO\"]\n",
    "Nch = sky130_hdl21.primitives.NMOS_1p8V_STD\n",
    "Pch = sky130_hdl21.primitives.PMOS_1p8V_STD\n",
    "\n",
    "\n",
    "@h.paramclass\n",
    "class RLadderParams:\n",
    "    \"\"\"# Resistor Ladder Parameters\n",
    "\n",
    "    Note the use of the `hdl21.Instantiable` type for the unit resistor element.\n",
    "    This generally means \"something we can make an `Instance` of\" - most commonly a `Module`.\n",
    "\n",
    "    Here we will be using a combination of an `ExternalModule` and its parameter-values,\n",
    "    in something like:\n",
    "\n",
    "    ```python\n",
    "    RLadderParams(res=PdkResistor(w=4 * µ, l=10 * µ))\n",
    "    ```\n",
    "    \"\"\"\n",
    "\n",
    "    nseg = h.Param(dtype=int, desc=\"Number of segments\")\n",
    "    res = h.Param(dtype=h.Instantiable, desc=\"Unit resistor, with params applied\")\n",
    "\n",
    "\n",
    "@h.generator\n",
    "def rladder(params: RLadderParams) -> h.Module:\n",
    "    \"\"\"# Resistor Ladder Generator\"\"\"\n",
    "\n",
    "    @h.module\n",
    "    class RLadder:\n",
    "        # IO\n",
    "        top = h.Inout()\n",
    "        bot = h.Inout()\n",
    "        taps = h.Output(width=params.nseg - 1)\n",
    "\n",
    "        # Create concatenations for the P and N sides of each resistor\n",
    "        nsides = h.Concat(bot, taps)\n",
    "        psides = h.Concat(taps, top)\n",
    "\n",
    "        # And create our unit resistor array\n",
    "        runits = params.nseg * params.res(p=psides, n=nsides)\n",
    "\n",
    "    return RLadder\n",
    "\n",
    "\n",
    "@h.paramclass\n",
    "class PassGateParams:\n",
    "    \"\"\"# Pass Gate Parameters\n",
    "\n",
    "    See the commentary on `RLadderParams` above regarding the use of `hdl21.Instantiable`,\n",
    "    which here serves as the parameter type for each transistor. It will generally be used like:\n",
    "\n",
    "    ```python\n",
    "    PassGateParams(\n",
    "        nmos=Nch(PdkMosParams(l=1 * n)),\n",
    "        pmos=Pch(PdkMosParams(l=1 * n)),\n",
    "    )\n",
    "    ```\n",
    "\n",
    "    Both `nmos` and `pmos` parameters are `Optional`, which means they can be set to the Python built-in `None` value.\n",
    "    If either is `None`, its \"half\" of the pass gate will be omitted.\n",
    "    Setting *both* to `None` will cause a generator exception.\n",
    "    \"\"\"\n",
    "\n",
    "    nmos = h.Param(dtype=Optional[h.Instantiable], desc=\"NMOS. Disabled if None.\")\n",
    "    pmos = h.Param(dtype=Optional[h.Instantiable], desc=\"PMOS. Disabled if None\")\n",
    "\n",
    "\n",
    "@h.generator\n",
    "def passgate(params: PassGateParams) -> h.Module:\n",
    "    \"\"\"# Pass Gate Generator\"\"\"\n",
    "    if params.nmos is None and params.pmos is None:\n",
    "        raise RuntimeError(\"A pass gate needs at least *one* transistor!\")\n",
    "\n",
    "    @h.module\n",
    "    class PassGate:\n",
    "        source = h.Inout()\n",
    "        drain = h.Inout()\n",
    "\n",
    "    if params.pmos is not None:\n",
    "        PassGate.VDD = h.Inout()\n",
    "        PassGate.en_b = h.Input()\n",
    "        PassGate.PSW = params.pmos(\n",
    "            d=PassGate.drain, s=PassGate.source, g=PassGate.en_b, b=PassGate.VDD\n",
    "        )\n",
    "\n",
    "    if params.nmos is not None:\n",
    "        PassGate.VSS = h.Inout()\n",
    "        PassGate.en = h.Input()\n",
    "        PassGate.NSW = params.nmos(\n",
    "            d=PassGate.drain, s=PassGate.source, g=PassGate.en, b=PassGate.VSS\n",
    "        )\n",
    "\n",
    "    return PassGate\n",
    "\n",
    "\n",
    "@h.generator\n",
    "def mux(params: PassGateParams) -> h.Module:\n",
    "    \"\"\"# Pass-Gate Analog Mux Generator\"\"\"\n",
    "\n",
    "    @h.module\n",
    "    class Mux:\n",
    "        sourceA = h.Input()\n",
    "        sourceB = h.Input()\n",
    "        out = h.Output()\n",
    "        ctrl = h.Input()\n",
    "        ctrl_b = h.Input()\n",
    "\n",
    "    aconns, bconns = (\n",
    "        dict(source=Mux.sourceA, drain=Mux.out),\n",
    "        dict(source=Mux.sourceB, drain=Mux.out),\n",
    "    )\n",
    "    if params.pmos is not None:\n",
    "        Mux.VDD = h.Inout()\n",
    "        aconns[\"VDD\"] = Mux.VDD\n",
    "        aconns[\"en_b\"] = Mux.ctrl_b\n",
    "        bconns[\"VDD\"] = Mux.VDD\n",
    "        bconns[\"en_b\"] = Mux.ctrl\n",
    "    if params.nmos is not None:\n",
    "        Mux.VSS = h.Inout()\n",
    "        aconns[\"VSS\"] = Mux.VSS\n",
    "        aconns[\"en\"] = Mux.ctrl\n",
    "        bconns[\"VSS\"] = Mux.VSS\n",
    "        bconns[\"en\"] = Mux.ctrl_b\n",
    "    Mux.passgate_a = passgate(params)(**aconns)\n",
    "    Mux.passgate_b = passgate(params)(**bconns)\n",
    "    return Mux\n",
    "\n",
    "\n",
    "@h.paramclass\n",
    "class MuxTreeParams:\n",
    "    \"\"\"# Mux Tree Parameters\"\"\"\n",
    "\n",
    "    nbit = h.Param(dtype=int, desc=\"Number of bits\")\n",
    "    mux_params = h.Param(dtype=PassGateParams, desc=\"Parameters for the MUX generator\")\n",
    "\n",
    "\n",
    "@h.generator\n",
    "def mux_tree(params: MuxTreeParams) -> h.Module:\n",
    "    \"\"\"Binary Mux Tree Generator\"\"\"\n",
    "\n",
    "    n_inputs = 2**params.nbit\n",
    "    p_ctrl = params.mux_params.nmos is not None\n",
    "    n_ctrl = params.mux_params.pmos is not None\n",
    "\n",
    "    # Base module\n",
    "    @h.module\n",
    "    class MuxTree:\n",
    "        out = h.Output()\n",
    "        v_in = h.Input(width=n_inputs)\n",
    "        ctrl = h.Input(width=params.nbit)\n",
    "        ctrl_b = h.Input(width=params.nbit)\n",
    "\n",
    "    base_mux_conns = dict()\n",
    "    if p_ctrl:\n",
    "        MuxTree.VSS = h.Inout()\n",
    "        base_mux_conns[\"VSS\"] = MuxTree.VSS\n",
    "    if n_ctrl:\n",
    "        MuxTree.VDD = h.Inout()\n",
    "        base_mux_conns[\"VDD\"] = MuxTree.VDD\n",
    "\n",
    "    # Build the MUX tree layer by layer\n",
    "    curr_input = MuxTree.v_in\n",
    "    for layer in range(params.nbit - 1, -1, -1):\n",
    "        layer_mux_conns = base_mux_conns.copy()\n",
    "        layer_mux_conns[\"ctrl\"] = MuxTree.ctrl[layer]\n",
    "        layer_mux_conns[\"ctrl_b\"] = MuxTree.ctrl_b[layer]\n",
    "        if layer != 0:\n",
    "            curr_output = MuxTree.add(\n",
    "                name=f\"sig_{layer}\", val=h.Signal(width=2**layer)\n",
    "            )\n",
    "        else:\n",
    "            curr_output = MuxTree.out\n",
    "        for mux_idx in range(2**layer):\n",
    "            mux_conns = layer_mux_conns.copy()\n",
    "            mux_conns[\"sourceA\"] = curr_input[2 * mux_idx]\n",
    "            mux_conns[\"sourceB\"] = curr_input[2 * mux_idx + 1]\n",
    "            mux_conns[\"out\"] = curr_output[mux_idx]\n",
    "            MuxTree.add(\n",
    "                name=f\"mux_{layer}_{mux_idx}\", val=mux(params.mux_params)(**mux_conns)\n",
    "            )\n",
    "        curr_input = curr_output\n",
    "    return MuxTree\n",
    "\n",
    "\n",
    "\"\"\"Main function, generating an `rladder` and `mux_tree` and netlisting each.\"\"\"\n",
    "\n",
    "# Create parameter values for each of our top-level generators\n",
    "rparams = RLadderParams(\n",
    "    nseg=15,\n",
    "    res=PdkResistor(),\n",
    ")\n",
    "mparams = MuxTreeParams(\n",
    "    nbit=4,\n",
    "    mux_params=PassGateParams(\n",
    "        nmos=Nch(),\n",
    "        pmos=Pch(),\n",
    "    ),\n",
    ")\n",
    "\n",
    "# Netlist in a handful of formats\n",
    "duts = [rladder(rparams)]\n",
    "# h.netlist(duts, sys.stdout, fmt=\"verilog\")\n",
    "# h.netlist(duts, sys.stdout, fmt=\"spectre\")\n",
    "# h.netlist(duts, sys.stdout, fmt=\"spice\")\n",
    "# h.netlist(duts, sys.stdout, fmt=\"xyce\")"
   ]
  },
  {
   "cell_type": "code",
   "execution_count": null,
   "id": "75dff489-179e-4c7d-befb-fd4386c2155d",
   "metadata": {},
   "outputs": [],
   "source": [
    "example_resistor_ladder_schematic_editor = gph.hdl21_module_to_schematic_editor(\n",
    "    module=rladder(rparams),\n",
    "    yaml_schematic_file_name=\"data/sky130nm/rladder.schem.yaml\",\n",
    ")\n",
    "example_resistor_ladder_schematic_editor.visualize()"
   ]
  },
  {
   "cell_type": "code",
   "execution_count": null,
   "id": "0a3d6454-899b-4969-aa92-fa4e9398dc9e",
   "metadata": {},
   "outputs": [],
   "source": [
    "example_inverter_layout = \"data/sky130nm/example_inverter_auto.layout.yaml\"\n",
    "example_inverter_schematic_editor.instantiate_layout(example_inverter_layout, default_router=\"get_bundle\", default_cross_section=\"xs_metal1\")\n",
    "c = gf.read.from_yaml(example_inverter_layout)\n",
    "c.plot()"
   ]
  },
  {
   "cell_type": "markdown",
   "id": "13",
   "metadata": {},
   "source": [
    "## (WIP, future integrations) Setting up the required tools: `xschem`, `volare` and the `sky130nm` PDKs\n",
    "\n",
    "I will say early on, you would benefit from working in a UNIX or Debian Linux environment. Most EDA tools either proprietary or open-source only work within these operating systems or a Docker environment of these operating systems.\n",
    "\n",
    "There are multiple ways to get started with the environment, you could, for example:\n",
    "1. Work within a [IIC-OSIC-TOOLS docker environment](https://github.com/iic-jku/IIC-OSIC-TOOLS). There is also a nice [OSIC-multitool project](https://github.com/iic-jku/osic-multitool) specifically for SKY130nm designs.\n",
    "2. Install these tools natively in your operating system. You could follow one of these tutorials, for example:\n",
    "    * https://www.engineerwikis.com/wikis/installation-of-xschem\n",
    "    * https://www.youtube.com/watch?v=jXmmxO8WG8s&t=7s\n",
    "\n",
    "This tutorial assumes the tools have already been installed in a local operating system. We will use some design files generated by these toolsets as guided by this [OSIC-Multitool example](https://github.com/iic-jku/osic-multitool/tree/main/example/ana). Note we recommend cloning the `gplugins` repository."
   ]
  },
  {
   "cell_type": "code",
   "execution_count": null,
   "id": "14",
   "metadata": {},
   "outputs": [],
   "source": [
    "import pathlib\n",
    "from gplugins.spice import parse_netlist as spice"
   ]
  },
  {
   "cell_type": "markdown",
   "id": "15",
   "metadata": {},
   "source": [
    "Our example files are under the directory of `gplugins/notebooks/data`, let's extract our SPICE declaration:"
   ]
  },
  {
   "cell_type": "code",
   "execution_count": null,
   "id": "16",
   "metadata": {},
   "outputs": [],
   "source": [
    "def read_file(file_path):\n",
    "    try:\n",
    "        with open(file_path, 'r') as file:\n",
    "            text = file.read()\n",
    "        return text\n",
    "    except FileNotFoundError:\n",
    "        print(\"File not found. Please provide a valid file path.\")\n",
    "        return None"
   ]
  },
  {
   "cell_type": "markdown",
   "id": "17",
   "metadata": {},
   "source": [
    "Let's list the files we're going to be reading into:"
   ]
  },
  {
   "cell_type": "code",
   "execution_count": null,
   "id": "18",
   "metadata": {},
   "outputs": [],
   "source": [
    "inverter_spice_file = pathlib.Path(\"data\") / \"sky130nm\" / \"inv.sch\""
   ]
  },
  {
   "cell_type": "markdown",
   "id": "19",
   "metadata": {},
   "source": [
    "Let's extract our raw spice netlist. An important aspect to understand is that unfortunately, every SPICE tool developed their own file format. So in this sense, netlist parsing function is implemented according to the type of spice toolset that has generated this netlist.\n",
    "\n",
    "We aim to support:\n",
    "\n",
    "- `xschem`\n",
    "- `lumerical?`"
   ]
  },
  {
   "cell_type": "code",
   "execution_count": null,
   "id": "20",
   "metadata": {},
   "outputs": [],
   "source": [
    "inverter_spice_text = read_file(inverter_spice_file)\n",
    "inverter_spice_text"
   ]
  },
  {
   "cell_type": "code",
   "execution_count": null,
   "id": "21",
   "metadata": {},
   "outputs": [],
   "source": [
    "spice.netlist_text"
   ]
  },
  {
   "cell_type": "code",
   "execution_count": null,
   "id": "22",
   "metadata": {},
   "outputs": [],
   "source": [
    "elements, _, _ = spice.parse_netlist_and_extract_elements(netlist_text=spice.netlist_text, spice_type=\"lumerical\")\n",
    "elements"
   ]
  },
  {
   "cell_type": "markdown",
   "id": "23",
   "metadata": {},
   "source": [
    "So we can use our `netlist` parsing function to convert this to a compatible netlist for gdsfactory plugins into the extracted elements and the extracted connections:"
   ]
  },
  {
   "cell_type": "code",
   "execution_count": null,
   "id": "24",
   "metadata": {},
   "outputs": [],
   "source": [
    "inverter_netlist_elements, inverter_netlist_connections, _ = spice.parse_netlist_and_extract_elements(netlist_text=inverter_spice_text, spice_type=\"xschem\")\n",
    "inverter_netlist_elements, inverter_netlist_connections, _"
   ]
  },
  {
   "cell_type": "markdown",
   "id": "25",
   "metadata": {},
   "source": [
    "### Automated schematic-driven-layout"
   ]
  },
  {
   "cell_type": "markdown",
   "id": "26",
   "metadata": {},
   "source": [
    "We have now extracted our spice elements and our connectivity. Let's explore what we have there:"
   ]
  },
  {
   "cell_type": "raw",
   "id": "27",
   "metadata": {},
   "source": [
    "# Current TODOs\n",
    "\n",
    "1. Update the extraction function to add xschem compatibility.\n",
    "2. Create the mapping between the extracted netlist and the corresponding SKY130nm elements."
   ]
  },
  {
   "cell_type": "code",
   "execution_count": null,
   "id": "28",
   "metadata": {},
   "outputs": [],
   "source": []
  },
  {
   "cell_type": "code",
   "execution_count": null,
   "id": "29",
   "metadata": {},
   "outputs": [],
   "source": []
  }
 ],
 "metadata": {
  "kernelspec": {
   "display_name": "Python 3 (ipykernel)",
   "language": "python",
   "name": "python3"
  },
  "language_info": {
   "codemirror_mode": {
    "name": "ipython",
    "version": 3
   },
   "file_extension": ".py",
   "mimetype": "text/x-python",
   "name": "python",
   "nbconvert_exporter": "python",
   "pygments_lexer": "ipython3",
   "version": "3.10.13"
  }
 },
 "nbformat": 4,
 "nbformat_minor": 5
}
